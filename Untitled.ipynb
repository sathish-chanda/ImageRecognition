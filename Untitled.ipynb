{
 "cells": [
  {
   "cell_type": "code",
   "execution_count": 1,
   "id": "557e977e-aecd-44e7-b64e-f34ba924cd0f",
   "metadata": {},
   "outputs": [
    {
     "name": "stderr",
     "output_type": "stream",
     "text": [
      "/tmp/ipykernel_20/287920568.py:14: RuntimeWarning: This package (`duckduckgo_search`) has been renamed to `ddgs`! Use `pip install ddgs` instead.\n",
      "  return L(DDGS().images(keywords,max_results = max_images)).itemgot('image')\n"
     ]
    },
    {
     "ename": "RatelimitException",
     "evalue": "https://duckduckgo.com/i.js?o=json&q=eagle+photo&l=us-en&vqd=4-112546313799867923141637238634558176035&p=1&f=%2C%2C%2C%2C%2C 403 Ratelimit",
     "output_type": "error",
     "traceback": [
      "\u001b[0;31m---------------------------------------------------------------------------\u001b[0m",
      "\u001b[0;31mRatelimitException\u001b[0m                        Traceback (most recent call last)",
      "Cell \u001b[0;32mIn[1], line 23\u001b[0m\n\u001b[1;32m     21\u001b[0m dest \u001b[38;5;241m=\u001b[39m (path\u001b[38;5;241m/\u001b[39msearch)\n\u001b[1;32m     22\u001b[0m dest\u001b[38;5;241m.\u001b[39mmkdir(exist_ok\u001b[38;5;241m=\u001b[39m\u001b[38;5;28;01mTrue\u001b[39;00m, parents\u001b[38;5;241m=\u001b[39m\u001b[38;5;28;01mTrue\u001b[39;00m)\n\u001b[0;32m---> 23\u001b[0m download_images(dest,urls\u001b[38;5;241m=\u001b[39m\u001b[43msearch_images\u001b[49m\u001b[43m(\u001b[49m\u001b[38;5;124;43mf\u001b[39;49m\u001b[38;5;124;43m'\u001b[39;49m\u001b[38;5;132;43;01m{\u001b[39;49;00m\u001b[43msearch\u001b[49m\u001b[38;5;132;43;01m}\u001b[39;49;00m\u001b[38;5;124;43m photo\u001b[39;49m\u001b[38;5;124;43m'\u001b[39;49m\u001b[43m)\u001b[49m)\n\u001b[1;32m     24\u001b[0m time\u001b[38;5;241m.\u001b[39msleep(\u001b[38;5;241m5\u001b[39m)\n\u001b[1;32m     25\u001b[0m resize_images(path\u001b[38;5;241m/\u001b[39msearch,max_size\u001b[38;5;241m=\u001b[39m\u001b[38;5;241m400\u001b[39m,dest\u001b[38;5;241m=\u001b[39mpath\u001b[38;5;241m/\u001b[39msearch)\n",
      "Cell \u001b[0;32mIn[1], line 14\u001b[0m, in \u001b[0;36msearch_images\u001b[0;34m(keywords, max_images)\u001b[0m\n\u001b[1;32m     13\u001b[0m \u001b[38;5;28;01mdef\u001b[39;00m\u001b[38;5;250m \u001b[39m\u001b[38;5;21msearch_images\u001b[39m(keywords,max_images \u001b[38;5;241m=\u001b[39m \u001b[38;5;241m200\u001b[39m): \n\u001b[0;32m---> 14\u001b[0m     \u001b[38;5;28;01mreturn\u001b[39;00m L(\u001b[43mDDGS\u001b[49m\u001b[43m(\u001b[49m\u001b[43m)\u001b[49m\u001b[38;5;241;43m.\u001b[39;49m\u001b[43mimages\u001b[49m\u001b[43m(\u001b[49m\u001b[43mkeywords\u001b[49m\u001b[43m,\u001b[49m\u001b[43mmax_results\u001b[49m\u001b[43m \u001b[49m\u001b[38;5;241;43m=\u001b[39;49m\u001b[43m \u001b[49m\u001b[43mmax_images\u001b[49m\u001b[43m)\u001b[49m)\u001b[38;5;241m.\u001b[39mitemgot(\u001b[38;5;124m'\u001b[39m\u001b[38;5;124mimage\u001b[39m\u001b[38;5;124m'\u001b[39m)\n",
      "File \u001b[0;32m/usr/local/lib/python3.10/dist-packages/duckduckgo_search/duckduckgo_search.py:502\u001b[0m, in \u001b[0;36mDDGS.images\u001b[0;34m(self, keywords, region, safesearch, timelimit, size, color, type_image, layout, license_image, max_results)\u001b[0m\n\u001b[1;32m    499\u001b[0m results: \u001b[38;5;28mlist\u001b[39m[\u001b[38;5;28mdict\u001b[39m[\u001b[38;5;28mstr\u001b[39m, \u001b[38;5;28mstr\u001b[39m]] \u001b[38;5;241m=\u001b[39m []\n\u001b[1;32m    501\u001b[0m \u001b[38;5;28;01mfor\u001b[39;00m _ \u001b[38;5;129;01min\u001b[39;00m \u001b[38;5;28mrange\u001b[39m(\u001b[38;5;241m5\u001b[39m):\n\u001b[0;32m--> 502\u001b[0m     resp_content \u001b[38;5;241m=\u001b[39m \u001b[38;5;28;43mself\u001b[39;49m\u001b[38;5;241;43m.\u001b[39;49m\u001b[43m_get_url\u001b[49m\u001b[43m(\u001b[49m\n\u001b[1;32m    503\u001b[0m \u001b[43m        \u001b[49m\u001b[38;5;124;43m\"\u001b[39;49m\u001b[38;5;124;43mGET\u001b[39;49m\u001b[38;5;124;43m\"\u001b[39;49m\u001b[43m,\u001b[49m\u001b[43m \u001b[49m\u001b[38;5;124;43m\"\u001b[39;49m\u001b[38;5;124;43mhttps://duckduckgo.com/i.js\u001b[39;49m\u001b[38;5;124;43m\"\u001b[39;49m\u001b[43m,\u001b[49m\u001b[43m \u001b[49m\u001b[43mparams\u001b[49m\u001b[38;5;241;43m=\u001b[39;49m\u001b[43mpayload\u001b[49m\u001b[43m,\u001b[49m\u001b[43m \u001b[49m\u001b[43mheaders\u001b[49m\u001b[38;5;241;43m=\u001b[39;49m\u001b[43m{\u001b[49m\u001b[38;5;124;43m\"\u001b[39;49m\u001b[38;5;124;43mReferer\u001b[39;49m\u001b[38;5;124;43m\"\u001b[39;49m\u001b[43m:\u001b[49m\u001b[43m \u001b[49m\u001b[38;5;124;43m\"\u001b[39;49m\u001b[38;5;124;43mhttps://duckduckgo.com/\u001b[39;49m\u001b[38;5;124;43m\"\u001b[39;49m\u001b[43m}\u001b[49m\n\u001b[1;32m    504\u001b[0m \u001b[43m    \u001b[49m\u001b[43m)\u001b[49m\u001b[38;5;241m.\u001b[39mcontent\n\u001b[1;32m    505\u001b[0m     resp_json \u001b[38;5;241m=\u001b[39m json_loads(resp_content)\n\u001b[1;32m    506\u001b[0m     page_data \u001b[38;5;241m=\u001b[39m resp_json\u001b[38;5;241m.\u001b[39mget(\u001b[38;5;124m\"\u001b[39m\u001b[38;5;124mresults\u001b[39m\u001b[38;5;124m\"\u001b[39m, [])\n",
      "File \u001b[0;32m/usr/local/lib/python3.10/dist-packages/duckduckgo_search/duckduckgo_search.py:138\u001b[0m, in \u001b[0;36mDDGS._get_url\u001b[0;34m(self, method, url, params, content, data, headers, cookies, json, timeout)\u001b[0m\n\u001b[1;32m    136\u001b[0m     \u001b[38;5;28;01mreturn\u001b[39;00m resp\n\u001b[1;32m    137\u001b[0m \u001b[38;5;28;01melif\u001b[39;00m resp\u001b[38;5;241m.\u001b[39mstatus_code \u001b[38;5;129;01min\u001b[39;00m (\u001b[38;5;241m202\u001b[39m, \u001b[38;5;241m301\u001b[39m, \u001b[38;5;241m403\u001b[39m, \u001b[38;5;241m400\u001b[39m, \u001b[38;5;241m429\u001b[39m, \u001b[38;5;241m418\u001b[39m):\n\u001b[0;32m--> 138\u001b[0m     \u001b[38;5;28;01mraise\u001b[39;00m RatelimitException(\u001b[38;5;124mf\u001b[39m\u001b[38;5;124m\"\u001b[39m\u001b[38;5;132;01m{\u001b[39;00mresp\u001b[38;5;241m.\u001b[39murl\u001b[38;5;132;01m}\u001b[39;00m\u001b[38;5;124m \u001b[39m\u001b[38;5;132;01m{\u001b[39;00mresp\u001b[38;5;241m.\u001b[39mstatus_code\u001b[38;5;132;01m}\u001b[39;00m\u001b[38;5;124m Ratelimit\u001b[39m\u001b[38;5;124m\"\u001b[39m)\n\u001b[1;32m    139\u001b[0m \u001b[38;5;28;01mraise\u001b[39;00m DuckDuckGoSearchException(\u001b[38;5;124mf\u001b[39m\u001b[38;5;124m\"\u001b[39m\u001b[38;5;132;01m{\u001b[39;00mresp\u001b[38;5;241m.\u001b[39murl\u001b[38;5;132;01m}\u001b[39;00m\u001b[38;5;124m return None. \u001b[39m\u001b[38;5;132;01m{\u001b[39;00mparams\u001b[38;5;132;01m=}\u001b[39;00m\u001b[38;5;124m \u001b[39m\u001b[38;5;132;01m{\u001b[39;00mcontent\u001b[38;5;132;01m=}\u001b[39;00m\u001b[38;5;124m \u001b[39m\u001b[38;5;132;01m{\u001b[39;00mdata\u001b[38;5;132;01m=}\u001b[39;00m\u001b[38;5;124m\"\u001b[39m)\n",
      "\u001b[0;31mRatelimitException\u001b[0m: https://duckduckgo.com/i.js?o=json&q=eagle+photo&l=us-en&vqd=4-112546313799867923141637238634558176035&p=1&f=%2C%2C%2C%2C%2C 403 Ratelimit"
     ]
    }
   ],
   "source": [
    "# Getting the URL of the image\n",
    "from duckduckgo_search import DDGS\n",
    "from fastcore.all import *\n",
    "\n",
    "# Downloading the imaage from the URL\n",
    "from fastdownload import download_url\n",
    "\n",
    "from fastai.vision.all import *\n",
    "\n",
    "# saving lot of images\n",
    "import time\n",
    "\n",
    "def search_images(keywords,max_images = 200): \n",
    "    return L(DDGS().images(keywords,max_results = max_images)).itemgot('image')\n",
    "\n",
    "searches = ['eagle','owl']\n",
    "\n",
    "path = Path('images')\n",
    "\n",
    "for search in searches:\n",
    "    dest = (path/search)\n",
    "    dest.mkdir(exist_ok=True, parents=True)\n",
    "    download_images(dest,urls=search_images(f'{search} photo'))\n",
    "    time.sleep(5)\n",
    "    resize_images(path/search,max_size=400,dest=path/search)\n",
    "\n",
    "# Validate the images\n",
    "failed = verify_images(get_image_files(path))\n",
    "failed.map(Path.unlink)"
   ]
  },
  {
   "cell_type": "code",
   "execution_count": 2,
   "id": "a7157c2f-36b0-4264-818b-1e6e912d370a",
   "metadata": {},
   "outputs": [
    {
     "name": "stderr",
     "output_type": "stream",
     "text": [
      "/tmp/ipykernel_63/2886863235.py:10: RuntimeWarning: This package (`duckduckgo_search`) has been renamed to `ddgs`! Use `pip install ddgs` instead.\n",
      "  return L(DDGS().images(keywords,max_results = max_images)).itemgot('image')\n"
     ]
    },
    {
     "ename": "RatelimitException",
     "evalue": "https://duckduckgo.com/i.js?o=json&q=eagle+photo&l=us-en&vqd=4-112546313799867923141637238634558176035&p=1&f=%2C%2C%2C%2C%2C 403 Ratelimit",
     "output_type": "error",
     "traceback": [
      "\u001b[0;31m---------------------------------------------------------------------------\u001b[0m",
      "\u001b[0;31mRatelimitException\u001b[0m                        Traceback (most recent call last)",
      "Cell \u001b[0;32mIn[2], line 19\u001b[0m\n\u001b[1;32m     17\u001b[0m dest \u001b[38;5;241m=\u001b[39m (path\u001b[38;5;241m/\u001b[39msearch)\n\u001b[1;32m     18\u001b[0m dest\u001b[38;5;241m.\u001b[39mmkdir(exist_ok\u001b[38;5;241m=\u001b[39m\u001b[38;5;28;01mTrue\u001b[39;00m, parents\u001b[38;5;241m=\u001b[39m\u001b[38;5;28;01mTrue\u001b[39;00m)\n\u001b[0;32m---> 19\u001b[0m download_images(dest,urls\u001b[38;5;241m=\u001b[39m\u001b[43msearch_images\u001b[49m\u001b[43m(\u001b[49m\u001b[38;5;124;43mf\u001b[39;49m\u001b[38;5;124;43m'\u001b[39;49m\u001b[38;5;132;43;01m{\u001b[39;49;00m\u001b[43msearch\u001b[49m\u001b[38;5;132;43;01m}\u001b[39;49;00m\u001b[38;5;124;43m photo\u001b[39;49m\u001b[38;5;124;43m'\u001b[39;49m\u001b[43m)\u001b[49m)\n\u001b[1;32m     20\u001b[0m time\u001b[38;5;241m.\u001b[39msleep(\u001b[38;5;241m5000\u001b[39m)\n\u001b[1;32m     21\u001b[0m resize_images(path\u001b[38;5;241m/\u001b[39msearch,max_size\u001b[38;5;241m=\u001b[39m\u001b[38;5;241m400\u001b[39m,dest\u001b[38;5;241m=\u001b[39mpath\u001b[38;5;241m/\u001b[39msearch)\n",
      "Cell \u001b[0;32mIn[2], line 10\u001b[0m, in \u001b[0;36msearch_images\u001b[0;34m(keywords, max_images)\u001b[0m\n\u001b[1;32m      9\u001b[0m \u001b[38;5;28;01mdef\u001b[39;00m\u001b[38;5;250m \u001b[39m\u001b[38;5;21msearch_images\u001b[39m(keywords,max_images \u001b[38;5;241m=\u001b[39m \u001b[38;5;241m200\u001b[39m): \n\u001b[0;32m---> 10\u001b[0m     \u001b[38;5;28;01mreturn\u001b[39;00m L(\u001b[43mDDGS\u001b[49m\u001b[43m(\u001b[49m\u001b[43m)\u001b[49m\u001b[38;5;241;43m.\u001b[39;49m\u001b[43mimages\u001b[49m\u001b[43m(\u001b[49m\u001b[43mkeywords\u001b[49m\u001b[43m,\u001b[49m\u001b[43mmax_results\u001b[49m\u001b[43m \u001b[49m\u001b[38;5;241;43m=\u001b[39;49m\u001b[43m \u001b[49m\u001b[43mmax_images\u001b[49m\u001b[43m)\u001b[49m)\u001b[38;5;241m.\u001b[39mitemgot(\u001b[38;5;124m'\u001b[39m\u001b[38;5;124mimage\u001b[39m\u001b[38;5;124m'\u001b[39m)\n",
      "File \u001b[0;32m/usr/local/lib/python3.10/dist-packages/duckduckgo_search/duckduckgo_search.py:502\u001b[0m, in \u001b[0;36mDDGS.images\u001b[0;34m(self, keywords, region, safesearch, timelimit, size, color, type_image, layout, license_image, max_results)\u001b[0m\n\u001b[1;32m    499\u001b[0m results: \u001b[38;5;28mlist\u001b[39m[\u001b[38;5;28mdict\u001b[39m[\u001b[38;5;28mstr\u001b[39m, \u001b[38;5;28mstr\u001b[39m]] \u001b[38;5;241m=\u001b[39m []\n\u001b[1;32m    501\u001b[0m \u001b[38;5;28;01mfor\u001b[39;00m _ \u001b[38;5;129;01min\u001b[39;00m \u001b[38;5;28mrange\u001b[39m(\u001b[38;5;241m5\u001b[39m):\n\u001b[0;32m--> 502\u001b[0m     resp_content \u001b[38;5;241m=\u001b[39m \u001b[38;5;28;43mself\u001b[39;49m\u001b[38;5;241;43m.\u001b[39;49m\u001b[43m_get_url\u001b[49m\u001b[43m(\u001b[49m\n\u001b[1;32m    503\u001b[0m \u001b[43m        \u001b[49m\u001b[38;5;124;43m\"\u001b[39;49m\u001b[38;5;124;43mGET\u001b[39;49m\u001b[38;5;124;43m\"\u001b[39;49m\u001b[43m,\u001b[49m\u001b[43m \u001b[49m\u001b[38;5;124;43m\"\u001b[39;49m\u001b[38;5;124;43mhttps://duckduckgo.com/i.js\u001b[39;49m\u001b[38;5;124;43m\"\u001b[39;49m\u001b[43m,\u001b[49m\u001b[43m \u001b[49m\u001b[43mparams\u001b[49m\u001b[38;5;241;43m=\u001b[39;49m\u001b[43mpayload\u001b[49m\u001b[43m,\u001b[49m\u001b[43m \u001b[49m\u001b[43mheaders\u001b[49m\u001b[38;5;241;43m=\u001b[39;49m\u001b[43m{\u001b[49m\u001b[38;5;124;43m\"\u001b[39;49m\u001b[38;5;124;43mReferer\u001b[39;49m\u001b[38;5;124;43m\"\u001b[39;49m\u001b[43m:\u001b[49m\u001b[43m \u001b[49m\u001b[38;5;124;43m\"\u001b[39;49m\u001b[38;5;124;43mhttps://duckduckgo.com/\u001b[39;49m\u001b[38;5;124;43m\"\u001b[39;49m\u001b[43m}\u001b[49m\n\u001b[1;32m    504\u001b[0m \u001b[43m    \u001b[49m\u001b[43m)\u001b[49m\u001b[38;5;241m.\u001b[39mcontent\n\u001b[1;32m    505\u001b[0m     resp_json \u001b[38;5;241m=\u001b[39m json_loads(resp_content)\n\u001b[1;32m    506\u001b[0m     page_data \u001b[38;5;241m=\u001b[39m resp_json\u001b[38;5;241m.\u001b[39mget(\u001b[38;5;124m\"\u001b[39m\u001b[38;5;124mresults\u001b[39m\u001b[38;5;124m\"\u001b[39m, [])\n",
      "File \u001b[0;32m/usr/local/lib/python3.10/dist-packages/duckduckgo_search/duckduckgo_search.py:138\u001b[0m, in \u001b[0;36mDDGS._get_url\u001b[0;34m(self, method, url, params, content, data, headers, cookies, json, timeout)\u001b[0m\n\u001b[1;32m    136\u001b[0m     \u001b[38;5;28;01mreturn\u001b[39;00m resp\n\u001b[1;32m    137\u001b[0m \u001b[38;5;28;01melif\u001b[39;00m resp\u001b[38;5;241m.\u001b[39mstatus_code \u001b[38;5;129;01min\u001b[39;00m (\u001b[38;5;241m202\u001b[39m, \u001b[38;5;241m301\u001b[39m, \u001b[38;5;241m403\u001b[39m, \u001b[38;5;241m400\u001b[39m, \u001b[38;5;241m429\u001b[39m, \u001b[38;5;241m418\u001b[39m):\n\u001b[0;32m--> 138\u001b[0m     \u001b[38;5;28;01mraise\u001b[39;00m RatelimitException(\u001b[38;5;124mf\u001b[39m\u001b[38;5;124m\"\u001b[39m\u001b[38;5;132;01m{\u001b[39;00mresp\u001b[38;5;241m.\u001b[39murl\u001b[38;5;132;01m}\u001b[39;00m\u001b[38;5;124m \u001b[39m\u001b[38;5;132;01m{\u001b[39;00mresp\u001b[38;5;241m.\u001b[39mstatus_code\u001b[38;5;132;01m}\u001b[39;00m\u001b[38;5;124m Ratelimit\u001b[39m\u001b[38;5;124m\"\u001b[39m)\n\u001b[1;32m    139\u001b[0m \u001b[38;5;28;01mraise\u001b[39;00m DuckDuckGoSearchException(\u001b[38;5;124mf\u001b[39m\u001b[38;5;124m\"\u001b[39m\u001b[38;5;132;01m{\u001b[39;00mresp\u001b[38;5;241m.\u001b[39murl\u001b[38;5;132;01m}\u001b[39;00m\u001b[38;5;124m return None. \u001b[39m\u001b[38;5;132;01m{\u001b[39;00mparams\u001b[38;5;132;01m=}\u001b[39;00m\u001b[38;5;124m \u001b[39m\u001b[38;5;132;01m{\u001b[39;00mcontent\u001b[38;5;132;01m=}\u001b[39;00m\u001b[38;5;124m \u001b[39m\u001b[38;5;132;01m{\u001b[39;00mdata\u001b[38;5;132;01m=}\u001b[39;00m\u001b[38;5;124m\"\u001b[39m)\n",
      "\u001b[0;31mRatelimitException\u001b[0m: https://duckduckgo.com/i.js?o=json&q=eagle+photo&l=us-en&vqd=4-112546313799867923141637238634558176035&p=1&f=%2C%2C%2C%2C%2C 403 Ratelimit"
     ]
    }
   ],
   "source": [
    "\n",
    "# Downloading the imaage from the URL\n",
    "from fastdownload import download_url\n",
    "\n",
    "from fastai.vision.all import *\n",
    "\n",
    "# saving lot of images\n",
    "import time\n",
    "\n",
    "def search_images(keywords,max_images = 200): \n",
    "    return L(DDGS().images(keywords,max_results = max_images)).itemgot('image')\n",
    "\n",
    "searches = ['eagle','owl']\n",
    "\n",
    "path = Path('images')\n",
    "\n",
    "for search in searches:\n",
    "    dest = (path/search)\n",
    "    dest.mkdir(exist_ok=True, parents=True)\n",
    "    download_images(dest,urls=search_images(f'{search} photo'))\n",
    "    time.sleep(5000)\n",
    "    resize_images(path/search,max_size=400,dest=path/search)\n",
    "\n",
    "# Validate the images\n",
    "failed = verify_images(get_image_files(path))\n",
    "failed.map(Path.unlink)"
   ]
  },
  {
   "cell_type": "code",
   "execution_count": 2,
   "id": "aba34915-ced0-4d23-84fe-f12f9daf5081",
   "metadata": {},
   "outputs": [
    {
     "name": "stderr",
     "output_type": "stream",
     "text": [
      "/tmp/ipykernel_20/1175163922.py:13: RuntimeWarning: This package (`duckduckgo_search`) has been renamed to `ddgs`! Use `pip install ddgs` instead.\n",
      "  return L(DDGS().images(keywords,max_results = max_images)).itemgot('image')\n"
     ]
    },
    {
     "ename": "RatelimitException",
     "evalue": "https://duckduckgo.com/i.js?o=json&q=eagle+photo&l=us-en&vqd=4-112546313799867923141637238634558176035&p=1&f=%2C%2C%2C%2C%2C 403 Ratelimit",
     "output_type": "error",
     "traceback": [
      "\u001b[0;31m---------------------------------------------------------------------------\u001b[0m",
      "\u001b[0;31mRatelimitException\u001b[0m                        Traceback (most recent call last)",
      "Cell \u001b[0;32mIn[2], line 22\u001b[0m\n\u001b[1;32m     20\u001b[0m dest \u001b[38;5;241m=\u001b[39m (path\u001b[38;5;241m/\u001b[39msearch)\n\u001b[1;32m     21\u001b[0m dest\u001b[38;5;241m.\u001b[39mmkdir(exist_ok\u001b[38;5;241m=\u001b[39m\u001b[38;5;28;01mTrue\u001b[39;00m, parents\u001b[38;5;241m=\u001b[39m\u001b[38;5;28;01mTrue\u001b[39;00m)\n\u001b[0;32m---> 22\u001b[0m download_images(dest,urls\u001b[38;5;241m=\u001b[39m\u001b[43msearch_images\u001b[49m\u001b[43m(\u001b[49m\u001b[38;5;124;43mf\u001b[39;49m\u001b[38;5;124;43m'\u001b[39;49m\u001b[38;5;132;43;01m{\u001b[39;49;00m\u001b[43msearch\u001b[49m\u001b[38;5;132;43;01m}\u001b[39;49;00m\u001b[38;5;124;43m photo\u001b[39;49m\u001b[38;5;124;43m'\u001b[39;49m\u001b[43m)\u001b[49m)\n\u001b[1;32m     23\u001b[0m time\u001b[38;5;241m.\u001b[39msleep(\u001b[38;5;241m5\u001b[39m)\n\u001b[1;32m     24\u001b[0m resize_images(path\u001b[38;5;241m/\u001b[39msearch,max_size\u001b[38;5;241m=\u001b[39m\u001b[38;5;241m400\u001b[39m,dest\u001b[38;5;241m=\u001b[39mpath\u001b[38;5;241m/\u001b[39msearch)\n",
      "Cell \u001b[0;32mIn[2], line 13\u001b[0m, in \u001b[0;36msearch_images\u001b[0;34m(keywords, max_images)\u001b[0m\n\u001b[1;32m     12\u001b[0m \u001b[38;5;28;01mdef\u001b[39;00m\u001b[38;5;250m \u001b[39m\u001b[38;5;21msearch_images\u001b[39m(keywords,max_images \u001b[38;5;241m=\u001b[39m \u001b[38;5;241m200\u001b[39m): \n\u001b[0;32m---> 13\u001b[0m     \u001b[38;5;28;01mreturn\u001b[39;00m L(\u001b[43mDDGS\u001b[49m\u001b[43m(\u001b[49m\u001b[43m)\u001b[49m\u001b[38;5;241;43m.\u001b[39;49m\u001b[43mimages\u001b[49m\u001b[43m(\u001b[49m\u001b[43mkeywords\u001b[49m\u001b[43m,\u001b[49m\u001b[43mmax_results\u001b[49m\u001b[43m \u001b[49m\u001b[38;5;241;43m=\u001b[39;49m\u001b[43m \u001b[49m\u001b[43mmax_images\u001b[49m\u001b[43m)\u001b[49m)\u001b[38;5;241m.\u001b[39mitemgot(\u001b[38;5;124m'\u001b[39m\u001b[38;5;124mimage\u001b[39m\u001b[38;5;124m'\u001b[39m)\n",
      "File \u001b[0;32m/usr/local/lib/python3.10/dist-packages/duckduckgo_search/duckduckgo_search.py:502\u001b[0m, in \u001b[0;36mDDGS.images\u001b[0;34m(self, keywords, region, safesearch, timelimit, size, color, type_image, layout, license_image, max_results)\u001b[0m\n\u001b[1;32m    499\u001b[0m results: \u001b[38;5;28mlist\u001b[39m[\u001b[38;5;28mdict\u001b[39m[\u001b[38;5;28mstr\u001b[39m, \u001b[38;5;28mstr\u001b[39m]] \u001b[38;5;241m=\u001b[39m []\n\u001b[1;32m    501\u001b[0m \u001b[38;5;28;01mfor\u001b[39;00m _ \u001b[38;5;129;01min\u001b[39;00m \u001b[38;5;28mrange\u001b[39m(\u001b[38;5;241m5\u001b[39m):\n\u001b[0;32m--> 502\u001b[0m     resp_content \u001b[38;5;241m=\u001b[39m \u001b[38;5;28;43mself\u001b[39;49m\u001b[38;5;241;43m.\u001b[39;49m\u001b[43m_get_url\u001b[49m\u001b[43m(\u001b[49m\n\u001b[1;32m    503\u001b[0m \u001b[43m        \u001b[49m\u001b[38;5;124;43m\"\u001b[39;49m\u001b[38;5;124;43mGET\u001b[39;49m\u001b[38;5;124;43m\"\u001b[39;49m\u001b[43m,\u001b[49m\u001b[43m \u001b[49m\u001b[38;5;124;43m\"\u001b[39;49m\u001b[38;5;124;43mhttps://duckduckgo.com/i.js\u001b[39;49m\u001b[38;5;124;43m\"\u001b[39;49m\u001b[43m,\u001b[49m\u001b[43m \u001b[49m\u001b[43mparams\u001b[49m\u001b[38;5;241;43m=\u001b[39;49m\u001b[43mpayload\u001b[49m\u001b[43m,\u001b[49m\u001b[43m \u001b[49m\u001b[43mheaders\u001b[49m\u001b[38;5;241;43m=\u001b[39;49m\u001b[43m{\u001b[49m\u001b[38;5;124;43m\"\u001b[39;49m\u001b[38;5;124;43mReferer\u001b[39;49m\u001b[38;5;124;43m\"\u001b[39;49m\u001b[43m:\u001b[49m\u001b[43m \u001b[49m\u001b[38;5;124;43m\"\u001b[39;49m\u001b[38;5;124;43mhttps://duckduckgo.com/\u001b[39;49m\u001b[38;5;124;43m\"\u001b[39;49m\u001b[43m}\u001b[49m\n\u001b[1;32m    504\u001b[0m \u001b[43m    \u001b[49m\u001b[43m)\u001b[49m\u001b[38;5;241m.\u001b[39mcontent\n\u001b[1;32m    505\u001b[0m     resp_json \u001b[38;5;241m=\u001b[39m json_loads(resp_content)\n\u001b[1;32m    506\u001b[0m     page_data \u001b[38;5;241m=\u001b[39m resp_json\u001b[38;5;241m.\u001b[39mget(\u001b[38;5;124m\"\u001b[39m\u001b[38;5;124mresults\u001b[39m\u001b[38;5;124m\"\u001b[39m, [])\n",
      "File \u001b[0;32m/usr/local/lib/python3.10/dist-packages/duckduckgo_search/duckduckgo_search.py:138\u001b[0m, in \u001b[0;36mDDGS._get_url\u001b[0;34m(self, method, url, params, content, data, headers, cookies, json, timeout)\u001b[0m\n\u001b[1;32m    136\u001b[0m     \u001b[38;5;28;01mreturn\u001b[39;00m resp\n\u001b[1;32m    137\u001b[0m \u001b[38;5;28;01melif\u001b[39;00m resp\u001b[38;5;241m.\u001b[39mstatus_code \u001b[38;5;129;01min\u001b[39;00m (\u001b[38;5;241m202\u001b[39m, \u001b[38;5;241m301\u001b[39m, \u001b[38;5;241m403\u001b[39m, \u001b[38;5;241m400\u001b[39m, \u001b[38;5;241m429\u001b[39m, \u001b[38;5;241m418\u001b[39m):\n\u001b[0;32m--> 138\u001b[0m     \u001b[38;5;28;01mraise\u001b[39;00m RatelimitException(\u001b[38;5;124mf\u001b[39m\u001b[38;5;124m\"\u001b[39m\u001b[38;5;132;01m{\u001b[39;00mresp\u001b[38;5;241m.\u001b[39murl\u001b[38;5;132;01m}\u001b[39;00m\u001b[38;5;124m \u001b[39m\u001b[38;5;132;01m{\u001b[39;00mresp\u001b[38;5;241m.\u001b[39mstatus_code\u001b[38;5;132;01m}\u001b[39;00m\u001b[38;5;124m Ratelimit\u001b[39m\u001b[38;5;124m\"\u001b[39m)\n\u001b[1;32m    139\u001b[0m \u001b[38;5;28;01mraise\u001b[39;00m DuckDuckGoSearchException(\u001b[38;5;124mf\u001b[39m\u001b[38;5;124m\"\u001b[39m\u001b[38;5;132;01m{\u001b[39;00mresp\u001b[38;5;241m.\u001b[39murl\u001b[38;5;132;01m}\u001b[39;00m\u001b[38;5;124m return None. \u001b[39m\u001b[38;5;132;01m{\u001b[39;00mparams\u001b[38;5;132;01m=}\u001b[39;00m\u001b[38;5;124m \u001b[39m\u001b[38;5;132;01m{\u001b[39;00mcontent\u001b[38;5;132;01m=}\u001b[39;00m\u001b[38;5;124m \u001b[39m\u001b[38;5;132;01m{\u001b[39;00mdata\u001b[38;5;132;01m=}\u001b[39;00m\u001b[38;5;124m\"\u001b[39m)\n",
      "\u001b[0;31mRatelimitException\u001b[0m: https://duckduckgo.com/i.js?o=json&q=eagle+photo&l=us-en&vqd=4-112546313799867923141637238634558176035&p=1&f=%2C%2C%2C%2C%2C 403 Ratelimit"
     ]
    }
   ],
   "source": [
    "from duckduckgo_search import DDGS\n",
    "from fastcore.all import *\n",
    "\n",
    "# Downloading the imaage from the URL\n",
    "from fastdownload import download_url\n",
    "\n",
    "from fastai.vision.all import *\n",
    "\n",
    "# saving lot of images\n",
    "import time\n",
    "\n",
    "def search_images(keywords,max_images = 200): \n",
    "    return L(DDGS().images(keywords,max_results = max_images)).itemgot('image')\n",
    "\n",
    "searches = ['eagle','owl']\n",
    "\n",
    "path = Path('images')\n",
    "\n",
    "for search in searches:\n",
    "    dest = (path/search)\n",
    "    dest.mkdir(exist_ok=True, parents=True)\n",
    "    download_images(dest,urls=search_images(f'{search} photo'))\n",
    "    time.sleep(5)\n",
    "    resize_images(path/search,max_size=400,dest=path/search)\n",
    "\n",
    "# Validate the images\n",
    "failed = verify_images(get_image_files(path))\n",
    "failed.map(Path.unlink)"
   ]
  },
  {
   "cell_type": "code",
   "execution_count": 1,
   "id": "1045a1c5-986a-4906-b9c0-f0b1232dfe5b",
   "metadata": {},
   "outputs": [
    {
     "name": "stderr",
     "output_type": "stream",
     "text": [
      "/usr/local/lib/python3.10/dist-packages/PIL/Image.py:1054: UserWarning: Palette images with Transparency expressed in bytes should be converted to RGBA images\n",
      "  warnings.warn(\n"
     ]
    },
    {
     "data": {
      "text/plain": [
       "(#24) [None,None,None,None,None,None,None,None,None,None,None,None,None,None,None,None,None,None,None,None...]"
      ]
     },
     "execution_count": 1,
     "metadata": {},
     "output_type": "execute_result"
    }
   ],
   "source": [
    "# Getting the URL of the image\n",
    "from duckduckgo_search import DDGS\n",
    "from fastcore.all import *\n",
    "\n",
    "# Downloading the imaage from the URL\n",
    "from fastdownload import download_url\n",
    "\n",
    "from fastai.vision.all import *\n",
    "\n",
    "# saving lot of images\n",
    "import time\n",
    "\n",
    "def search_images(keywords,max_images = 200): \n",
    "    return L(DDGS().images(keywords,max_results = max_images)).itemgot('image')\n",
    "\n",
    "searches = ['eagle','owl']\n",
    "\n",
    "path = Path('images')\n",
    "\n",
    "for search in searches:\n",
    "    dest = (path/search)\n",
    "    dest.mkdir(exist_ok=True, parents=True)\n",
    "    download_images(dest,urls=search_images(f'{search} photo'))\n",
    "    time.sleep(5)\n",
    "    resize_images(path/search,max_size=400,dest=path/search)\n",
    "\n",
    "# Validate the images\n",
    "failed = verify_images(get_image_files(path))\n",
    "failed.map(Path.unlink)"
   ]
  },
  {
   "cell_type": "code",
   "execution_count": null,
   "id": "77c8a60a-3b6a-437b-903c-b127f04dd5c7",
   "metadata": {},
   "outputs": [],
   "source": []
  }
 ],
 "metadata": {
  "kernelspec": {
   "display_name": "Python 3 (ipykernel)",
   "language": "python",
   "name": "python3"
  },
  "language_info": {
   "codemirror_mode": {
    "name": "ipython",
    "version": 3
   },
   "file_extension": ".py",
   "mimetype": "text/x-python",
   "name": "python",
   "nbconvert_exporter": "python",
   "pygments_lexer": "ipython3",
   "version": "3.10.12"
  }
 },
 "nbformat": 4,
 "nbformat_minor": 5
}
